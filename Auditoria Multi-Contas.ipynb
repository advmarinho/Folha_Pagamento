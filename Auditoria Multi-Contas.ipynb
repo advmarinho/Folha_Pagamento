# ==========================================================
# CÉLULA - Auditoria Multi-Contas (Legenda interativa)
# ==========================================================
import pandas as pd
import plotly.graph_objects as go

# Carregar base simulada
df = pd.read_csv("folha_simulada_completa.csv", sep=";")
df["Mes"] = pd.to_datetime(df["Mes"])

contas = ["Folha_Bruta", "Horas_Extras", "Beneficios", "INSS", "FGTS", "Ferias", "13o", "Rescisoes", "PLR"]

palette = {
    "Folha_Bruta": "#0d6efd", "Horas_Extras": "#6f42c1",
    "Beneficios": "#20c997", "INSS": "#fd7e14",
    "FGTS": "#198754", "Ferias": "#ffc107",
    "13o": "#6610f2", "Rescisoes": "#e83e8c",
    "PLR": "#dc3545"
}

fig = go.Figure()

# Criar cada conta e issues (invisíveis, mas na legenda)
for conta in contas:
    cor = palette.get(conta, "#999")

    # Linha principal
    fig.add_trace(go.Scatter(
        x=df["Mes"], y=df[conta],
        mode="lines+markers",
        name=conta,
        line=dict(color=cor, width=2),
        visible="legendonly",  # aparece na legenda, mas não no gráfico
        legendgroup=conta
    ))

    # Issues
    idx_min = df[conta].idxmin()
    x_min, y_min = df.loc[idx_min, "Mes"], df.loc[idx_min, conta]
    idx_max = df.loc[idx_min:, conta].idxmax()
    x_max, y_max = df.loc[idx_max, "Mes"], df.loc[idx_max, conta]

    fig.add_trace(go.Scatter(
        x=[x_min], y=[y_min], mode="markers+text",
        text=["Baixo"], textposition="bottom center",
        marker=dict(size=14, color=cor, symbol="triangle-down", line=dict(width=2, color="white")),
        name=f"Issue baixo",
        visible="legendonly",
        legendgroup=conta,
        showlegend=True
    ))
    fig.add_trace(go.Scatter(
        x=[x_max], y=[y_max], mode="markers+text",
        text=["Alto"], textposition="top center",
        marker=dict(size=16, color=cor, symbol="circle", line=dict(width=2, color="white")),
        name=f"Issue alto",
        visible="legendonly",
        legendgroup=conta,
        showlegend=True
    ))

# Layout
fig.update_layout(
    title="Auditoria Visual — Contas da Folha (use a legenda para ativar/desativar)",
    hovermode="x unified",
    template="plotly_white",
    font=dict(family="Arial, sans-serif", size=13, color="black"),
    legend=dict(
        orientation="v",
        x=1.02, y=1,
        bgcolor="rgba(255,255,255,0.9)",
        bordercolor="rgba(0,0,0,0.1)", borderwidth=1
    ),
    xaxis=dict(rangeslider=dict(visible=True), type="date"),
    yaxis_title="Valor (R$)"
)

fig.show()
