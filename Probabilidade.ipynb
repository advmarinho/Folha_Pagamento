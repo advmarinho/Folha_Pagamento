# ==========================================================
# Titanic - App CustomTkinter (em português) + PLOTS Plotly
# - Lê CSV (train_and_test2.csv), renomeia alvo 2urvived -> Survived
# - Drop-downs dinâmicos (faixas geradas a partir do próprio CSV)
# - Treina RandomForest (split estratificado 80/20)
# - Mostra "Sobreviveu" ou "Não sobreviveu" com probabilidade
# - NOVO: Botões para plotar (Treino/Teste) e "Exemplos do Usuário" (Plotly)
# - Os traces começam em "legendonly" para ligar/desligar no clique da legenda
# ==========================================================

import os
import math
import tkinter as tk
import customtkinter as ctk
from tkinter import filedialog, messagebox

import pandas as pd
import numpy as np

from sklearn.model_selection import train_test_split
from sklearn.ensemble import RandomForestClassifier
from sklearn.metrics import accuracy_score, confusion_matrix, classification_report

import plotly.graph_objects as go

# Aparência
ctk.set_appearance_mode("light")
ctk.set_default_color_theme("blue")


class TitanicApp(ctk.CTk):
    def __init__(self):
        super().__init__()
        self.title("Titanic - Previsor de Sobrevivência")
        self.geometry("980x740")
        self.resizable(False, False)

        # Estado
        self.caminho_csv = ctk.StringVar(
            value="/home/andersons/Documentos/Dev_language/Python/LabSec/content/train_and_test2.csv"
        )
        self.df = None
        self.modelo = None
        self.opcoes = {}
        self.mapa_embarked = {}
        self.mapa_sex = {}

        # conjuntos para plot
        self.X_train = None
        self.X_test  = None
        self.y_train = None
        self.y_test  = None
        self.df_train_pred = None
        self.df_test_pred  = None

        # buffer de exemplos do usuário (após cada Prever)
        self.exemplos_usuario = []  # lista de dicts {"Pclass":..., "Age":..., ..., "proba":..., "pred":...}

        # Constrói UI
        self._montar_ui()

        # Carrega e treina de início (se o CSV existir)
        self.carregar_csv()
        self.treinar_modelo()

    # ---------------- UI ----------------
    def _montar_ui(self):
        topo = ctk.CTkFrame(self, corner_radius=12)
        topo.pack(fill="x", padx=12, pady=(12, 6))

        ctk.CTkLabel(topo, text="Arquivo CSV do Titanic:").pack(side="left", padx=(10, 6), pady=10)
        self.entry_caminho = ctk.CTkEntry(topo, textvariable=self.caminho_csv, width=540)
        self.entry_caminho.pack(side="left", padx=6, pady=10)

        btn_sel = ctk.CTkButton(topo, text="Selecionar CSV", command=self.selecionar_csv)
        btn_sel.pack(side="left", padx=6, pady=10)

        btn_reload = ctk.CTkButton(topo, text="Recarregar e Treinar", command=self.recarregar_treinar)
        btn_reload.pack(side="left", padx=(6, 10), pady=10)

        corpo = ctk.CTkFrame(self, corner_radius=12)
        corpo.pack(fill="both", expand=True, padx=12, pady=(6, 12))

        esquerda = ctk.CTkFrame(corpo, corner_radius=12)
        esquerda.pack(side="left", fill="both", expand=True, padx=10, pady=10)

        direita = ctk.CTkFrame(corpo, corner_radius=12)
        direita.pack(side="right", fill="both", expand=True, padx=10, pady=10)

        # ---------- Esquerda: Parâmetros ----------
        ctk.CTkLabel(
            esquerda, text="Parâmetros do Passageiro", font=ctk.CTkFont(size=16, weight="bold")
        ).pack(pady=(8, 12))

        self.vars = {
            "Pclass": tk.StringVar(),
            "Age": tk.StringVar(),
            "Fare": tk.StringVar(),
            "Sex": tk.StringVar(),
            "sibsp": tk.StringVar(),
            "Parch": tk.StringVar(),
            "Embarked": tk.StringVar(),
        }

        rotulos = {
            "Pclass": "Classe do bilhete",
            "Age": "Idade (faixa)",
            "Fare": "Tarifa (faixa)",
            "Sex": "Sexo",
            "sibsp": "Irmãos/Cônjuge a bordo",
            "Parch": "Pais/Filhos a bordo",
            "Embarked": "Embarque",
        }

        self.widgets_dd = {}
        for campo in ["Pclass", "Age", "Fare", "Sex", "sibsp", "Parch", "Embarked"]:
            frame = ctk.CTkFrame(esquerda, corner_radius=10)
            frame.pack(fill="x", padx=8, pady=6)

            ctk.CTkLabel(frame, text=rotulos[campo], width=220, anchor="w").pack(side="left", padx=8, pady=10)
            om = ctk.CTkOptionMenu(frame, variable=self.vars[campo], values=["-"], width=260)
            om.pack(side="left", padx=8, pady=10)
            self.widgets_dd[campo] = om

        # ---------- Direita: Ações/Saída ----------
        ctk.CTkLabel(direita, text="Ações", font=ctk.CTkFont(size=16, weight="bold")).pack(pady=(8, 6))

        btn_treinar = ctk.CTkButton(direita, text="Treinar Modelo", command=self.treinar_modelo)
        btn_treinar.pack(fill="x", padx=10, pady=6)

        btn_exemplo = ctk.CTkButton(direita, text="Preencher Exemplo Aleatório", command=self.preencher_exemplo)
        btn_exemplo.pack(fill="x", padx=10, pady=6)

        btn_prever = ctk.CTkButton(direita, text="Prever Sobrevivência", command=self.prever)
        btn_prever.pack(fill="x", padx=10, pady=6)

        # NOVOS botões de plot
        btn_plot_tt = ctk.CTkButton(direita, text="Plotar (Treino/Teste)", command=self.plot_treino_teste)
        btn_plot_tt.pack(fill="x", padx=10, pady=(16,6))

        btn_plot_user = ctk.CTkButton(direita, text="Plotar exemplos do usuário", command=self.plot_exemplos_usuario)
        btn_plot_user.pack(fill="x", padx=10, pady=6)

        self.lbl_acc = ctk.CTkLabel(direita, text="Acurácia de teste: -", anchor="w")
        self.lbl_acc.pack(fill="x", padx=10, pady=(16, 4))

        self.txt = ctk.CTkTextbox(direita, height=320)
        self.txt.pack(fill="both", expand=True, padx=10, pady=(6, 10))

    # ------------- Utilidades -------------
    def selecionar_csv(self):
        caminho = filedialog.askopenfilename(
            title="Selecionar CSV do Titanic",
            filetypes=[("CSV", "*.csv"), ("Todos os arquivos", "*.*")]
        )
        if caminho:
            self.caminho_csv.set(caminho)

    def recarregar_treinar(self):
        ok = self.carregar_csv()
        if ok:
            self.treinar_modelo()

    def carregar_csv(self):
        caminho = self.caminho_csv.get()
        if not os.path.exists(caminho):
            messagebox.showerror("Erro", f"Arquivo não encontrado:\n{caminho}")
            return False
        try:
            df = pd.read_csv(caminho)
        except Exception as e:
            messagebox.showerror("Erro", f"Falha ao ler CSV:\n{e}")
            return False

        # Alvo
        if "2urvived" in df.columns and "Survived" not in df.columns:
            df = df.rename(columns={"2urvived": "Survived"})

        necessarias = ["Pclass", "Age", "Fare", "Sex", "sibsp", "Parch", "Embarked"]
        faltando = [c for c in necessarias if c not in df.columns]
        if faltando:
            messagebox.showerror("Erro", "Colunas ausentes: " + ", ".join(faltando))
            return False

        manter = necessarias + (["Survived"] if "Survived" in df.columns else [])
        df = df[manter].copy()

        # Tratamento simples de faltantes
        df["Age"] = df["Age"].fillna(df["Age"].median())
        df["Fare"] = df["Fare"].fillna(df["Fare"].median())
        try:
            df["Embarked"] = df["Embarked"].fillna(df["Embarked"].mode()[0])
        except Exception:
            df["Embarked"] = df["Embarked"].fillna(0)

        self.df = df
        self._construir_opcoes()
        return True

    def _faixas_idade(self, vmin, vmax, passo=5):
        ini = math.floor(vmin)
        fim = math.ceil(vmax)
        labels = []
        atual = ini
        while atual < fim:
            prox = min(atual + passo, fim)
            labels.append(f"{atual}-{prox}")
            atual = prox
        return labels or [f"{ini}-{fim}"]

    def _faixas_tarifa_quantis(self, serie, q=5):
        qs = np.linspace(0, 1, q + 1)
        vs = serie.quantile(qs).values
        labels = []
        for i in range(len(vs) - 1):
            a, b = float(vs[i]), float(vs[i + 1])
            if i < len(vs) - 2:
                b = np.nextafter(b, b + 1)
            labels.append(f"{a:.2f}-{b:.2f}")
        uniq = []
        for lab in labels:
            if lab not in uniq:
                uniq.append(lab)
        return uniq

    def _construir_opcoes(self):
        df = self.df
        self.opcoes = {}
        self.mapa_sex = {}
        self.mapa_embarked = {}

        # Pclass
        pclasses = sorted(pd.to_numeric(df["Pclass"], errors="coerce").dropna().astype(int).unique().tolist())
        self.opcoes["Pclass"] = [str(x) for x in pclasses] or ["1", "2", "3"]

        # Idade (faixas de 5 anos)
        vmin, vmax = float(df["Age"].min()), float(df["Age"].max())
        self.opcoes["Age"] = self._faixas_idade(vmin, vmax, passo=5)

        # Tarifa: 5 faixas por quantis
        self.opcoes["Fare"] = self._faixas_tarifa_quantis(df["Fare"], q=5)

        # Sexo
        unicos_sex = df["Sex"].unique().tolist()
        if df["Sex"].dtype != object:
            rotulos = []
            for v in sorted(pd.Series(unicos_sex).dropna().unique().tolist()):
                rotulo = "feminino" if int(v) == 1 else "masculino"
                rotulos.append(rotulo)
                self.mapa_sex[rotulo] = int(v)
            self.opcoes["Sex"] = rotulos
        else:
            rotulos = sorted([str(x) for x in unicos_sex if pd.notna(x)])
            self.mapa_sex = {lab: lab for lab in rotulos}
            self.opcoes["Sex"] = rotulos

        # sibsp e Parch
        self.opcoes["sibsp"] = [str(int(x)) for x in sorted(pd.to_numeric(df["sibsp"], errors="coerce").dropna().unique().tolist())]
        self.opcoes["Parch"] = [str(int(x)) for x in sorted(pd.to_numeric(df["Parch"], errors="coerce").dropna().unique().tolist())]

        # Embarked
        unicos_emb = df["Embarked"].unique().tolist()
        if df["Embarked"].dtype != object:
            guess = {0: "C", 1: "Q", 2: "S"}
            rotulos = []
            for v in sorted(pd.Series(unicos_emb).dropna().unique().tolist()):
                vi = int(v)
                lab = guess.get(vi, str(vi))
                rotulos.append(lab)
                self.mapa_embarked[lab] = vi
            self.opcoes["Embarked"] = rotulos
        else:
            rotulos = sorted([str(x) for x in unicos_emb if pd.notna(x)])
            self.mapa_embarked = {lab: lab for lab in rotulos}
            self.opcoes["Embarked"] = rotulos

        # Atualiza OptionMenus
        for campo, om in self.widgets_dd.items():
            vals = self.opcoes.get(campo, ["-"])
            om.configure(values=vals)
            if vals:
                self.vars[campo].set(vals[0])
            else:
                self.vars[campo].set("-")

    def _label_para_valor(self, campo, label):
        if campo in ("Age", "Fare"):
            try:
                a, b = label.split("-")
                return (float(a) + float(b)) / 2.0
            except Exception:
                return float(self.df[campo].median())
        if campo in ("Pclass", "sibsp", "Parch"):
            return int(label)
        if campo == "Sex":
            return self.mapa_sex.get(label, 0)
        if campo == "Embarked":
            val = self.mapa_embarked.get(label, label)
            try:
                return int(val)
            except Exception:
                return 0
        return label

    def _faixa_que_contem(self, labels, valor):
        for lab in labels:
            try:
                a, b = lab.split("-")
                a, b = float(a), float(b)
                if a <= valor <= b:
                    return lab
            except Exception:
                continue
        return labels[0] if labels else ""

    def preencher_exemplo(self):
        if self.df is None or self.df.empty:
            return
        linha = self.df.sample(1, random_state=np.random.randint(0, 99999)).iloc[0]

        self.vars["Pclass"].set(str(int(linha["Pclass"])))
        self.vars["Age"].set(self._faixa_que_contem(self.opcoes["Age"], float(linha["Age"])))
        self.vars["Fare"].set(self._faixa_que_contem(self.opcoes["Fare"], float(linha["Fare"])))

        if self.mapa_sex:
            inv_sex = {v: k for k, v in self.mapa_sex.items()}
            self.vars["Sex"].set(inv_sex.get(int(linha["Sex"]), list(self.mapa_sex.keys())[0]))
        else:
            self.vars["Sex"].set(str(linha["Sex"]))

        self.vars["sibsp"].set(str(int(linha["sibsp"])))
        self.vars["Parch"].set(str(int(linha["Parch"])))

        if self.mapa_embarked:
            inv_emb = {v: k for k, v in self.mapa_embarked.items()}
            val = int(linha["Embarked"]) if not isinstance(linha["Embarked"], str) else linha["Embarked"]
            self.vars["Embarked"].set(inv_emb.get(val, list(self.mapa_embarked.keys())[0]))
        else:
            self.vars["Embarked"].set(str(linha["Embarked"]))

        self.txt.insert("end", "Exemplo aleatório preenchido.\n")

    def treinar_modelo(self):
        if self.df is None:
            self.txt.insert("end", "Carregue um CSV válido antes de treinar.\n")
            return

        df = self.df.copy()
        if "Survived" not in df.columns:
            self.modelo = None
            self.lbl_acc.configure(text="Acurácia de teste: - (sem coluna Survived no CSV)")
            self.txt.insert("end", "Arquivo não possui coluna Survived. Treino não realizado.\n")
            return

        X = df.drop(columns=["Survived"])
        y = df["Survived"]

        self.X_train, self.X_test, self.y_train, self.y_test = train_test_split(
            X, y, test_size=0.20, random_state=42, stratify=y
        )

        self.modelo = RandomForestClassifier(n_estimators=200, random_state=42)
        self.modelo.fit(self.X_train, self.y_train)

        y_pred = self.modelo.predict(self.X_test)
        acc = accuracy_score(self.y_test, y_pred)

        # prepara dataframes para plot
        proba_train = self.modelo.predict_proba(self.X_train)[:, 1]
        self.df_train_pred = pd.DataFrame({
            "idx": np.arange(len(self.y_train)),
            "y_true": self.y_train.values,
            "proba_survive": proba_train,
        })
        self.df_train_pred["y_pred"] = (self.df_train_pred["proba_survive"] >= 0.5).astype(int)
        self.df_train_pred["acertou"] = (self.df_train_pred["y_pred"] == self.df_train_pred["y_true"]).astype(int)

        proba_test = self.modelo.predict_proba(self.X_test)[:, 1]
        self.df_test_pred = pd.DataFrame({
            "idx": np.arange(len(self.y_test)),
            "y_true": self.y_test.values,
            "proba_survive": proba_test,
        })
        self.df_test_pred["y_pred"] = (self.df_test_pred["proba_survive"] >= 0.5).astype(int)
        self.df_test_pred["acertou"] = (self.df_test_pred["y_pred"] == self.df_test_pred["y_true"]).astype(int)

        self.lbl_acc.configure(text=f"Acurácia de teste: {acc:.4f}")
        self.txt.delete("1.0", "end")
        self.txt.insert("end", "Modelo treinado com sucesso.\n")
        self.txt.insert("end", f"Acurácia de teste: {acc:.4f}\n")
        self.txt.insert("end", f"Variáveis usadas: {', '.join(X.columns)}\n")

    def prever(self):
        if self.modelo is None:
            messagebox.showwarning("Aviso", "Treine o modelo primeiro.")
            return

        registro = {}
        for campo in ["Pclass", "Age", "Fare", "Sex", "sibsp", "Parch", "Embarked"]:
            rotulo = self.vars[campo].get()
            registro[campo] = self._label_para_valor(campo, rotulo)

        X_new = pd.DataFrame([registro])
        pred = int(self.modelo.predict(X_new)[0])

        proba = None
        if hasattr(self.modelo, "predict_proba"):
            proba = float(self.modelo.predict_proba(X_new)[0][pred])

        # salva o exemplo do usuário no buffer para plot posterior
        self.exemplos_usuario.append({
            **registro,
            "pred": pred,
            "proba": proba if proba is not None else None
        })

        self.txt.insert("end", "\nEntrada:\n")
        self.txt.insert("end", f"{registro}\n")
        msg = "Sobreviveu" if pred == 1 else "Não sobreviveu"
        if proba is not None:
            self.txt.insert("end", f"Previsão: {msg}  (prob≈{proba:.3f})\n")
        else:
            self.txt.insert("end", f"Previsão: {msg}\n")

    # ------------------- PLOTS -------------------
    def _fig_prob(self, df_pred, titulo):
        c1_ok  = df_pred[(df_pred["y_true"] == 1) & (df_pred["acertou"] == 1)]
        c1_err = df_pred[(df_pred["y_true"] == 1) & (df_pred["acertou"] == 0)]
        c0_ok  = df_pred[(df_pred["y_true"] == 0) & (df_pred["acertou"] == 1)]
        c0_err = df_pred[(df_pred["y_true"] == 0) & (df_pred["acertou"] == 0)]

        fig = go.Figure()

        fig.add_trace(go.Scatter(
            x=c1_ok["idx"], y=c1_ok["proba_survive"],
            mode="markers", name="Classe 1 (Sobreviveu) — Corretos",
            marker=dict(size=9, symbol="circle"),
            visible="legendonly", legendgroup="c1",
            hovertemplate="idx=%{x}<br>prob=%{y:.3f}<extra></extra>"
        ))
        fig.add_trace(go.Scatter(
            x=c1_err["idx"], y=c1_err["proba_survive"],
            mode="markers", name="Classe 1 (Sobreviveu) — Errados",
            marker=dict(size=11, symbol="x"),
            visible="legendonly", legendgroup="c1",
            hovertemplate="idx=%{x}<br>prob=%{y:.3f}<extra></extra>"
        ))
        fig.add_trace(go.Scatter(
            x=c0_ok["idx"], y=c0_ok["proba_survive"],
            mode="markers", name="Classe 0 (Não sobreviveu) — Corretos",
            marker=dict(size=9, symbol="square"),
            visible="legendonly", legendgroup="c0",
            hovertemplate="idx=%{x}<br>prob=%{y:.3f}<extra></extra>"
        ))
        fig.add_trace(go.Scatter(
            x=c0_err["idx"], y=c0_err["proba_survive"],
            mode="markers", name="Classe 0 (Não sobreviveu) — Errados",
            marker=dict(size=11, symbol="triangle-up"),
            visible="legendonly", legendgroup="c0",
            hovertemplate="idx=%{x}<br>prob=%{y:.3f}<extra></extra>"
        ))

        fig.add_hline(y=0.5, line_dash="dot", line_color="gray",
                      annotation_text="limiar 0.5", annotation_position="bottom right")

        fig.update_layout(
            title=titulo + " — Probabilidade prevista de 'Sobreviveu' (classe 1)",
            template="plotly_white",
            hovermode="x unified",
            font=dict(family="Arial, sans-serif", size=13),
            xaxis_title="Índice do exemplo",
            yaxis_title="Probabilidade (classe 1)",
            yaxis=dict(range=[-0.02, 1.02]),
            legend=dict(orientation="v", x=1.02, y=1,
                        bgcolor="rgba(255,255,255,0.95)",
                        bordercolor="rgba(0,0,0,0.1)", borderwidth=1)
        )
        return fig

    def plot_treino_teste(self):
        if self.df_train_pred is None or self.df_test_pred is None:
            messagebox.showinfo("Info", "Treine o modelo antes de plotar.")
            return
        fig_treino = self._fig_prob(self.df_train_pred, "Exemplos do MODELO (Treino)")
        fig_teste  = self._fig_prob(self.df_test_pred,  "Exemplos de TESTE (Holdout)")
        fig_treino.show()
        fig_teste.show()

    def plot_exemplos_usuario(self):
        if not self.exemplos_usuario:
            messagebox.showinfo("Info", "Ainda não há exemplos do usuário. Faça previsões primeiro.")
            return

        dfu = pd.DataFrame(self.exemplos_usuario)
        # idx crescente pelo momento em que foram adicionados
        dfu["idx"] = np.arange(len(dfu))
        # dois grupos: pred=1 (Sobreviveu) e pred=0 (Não)
        sobreviveu = dfu[dfu["pred"] == 1]
        nao_sobreviveu = dfu[dfu["pred"] == 0]

        fig = go.Figure()

        fig.add_trace(go.Scatter(
            x=sobreviveu["idx"], y=sobreviveu["proba"],
            mode="markers+text", name="Usuário — Previu Sobreviveu",
            text=[f"{p:.2f}" for p in sobreviveu["proba"]],
            textposition="top center",
            marker=dict(size=11, symbol="circle"),
            visible="legendonly", legendgroup="usr1",
            hovertemplate="idx=%{x}<br>prob=%{y:.3f}<extra></extra>"
        ))
        fig.add_trace(go.Scatter(
            x=nao_sobreviveu["idx"], y=nao_sobreviveu["proba"],
            mode="markers+text", name="Usuário — Previu Não sobreviveu",
            text=[f"{p:.2f}" for p in nao_sobreviveu["proba"]],
            textposition="bottom center",
            marker=dict(size=11, symbol="x"),
            visible="legendonly", legendgroup="usr0",
            hovertemplate="idx=%{x}<br>prob=%{y:.3f}<extra></extra>"
        ))

        fig.add_hline(y=0.5, line_dash="dot", line_color="gray",
                      annotation_text="limiar 0.5", annotation_position="bottom right")

        fig.update_layout(
            title="Exemplos do USUÁRIO — Probabilidade prevista de 'Sobreviveu'",
            template="plotly_white",
            hovermode="x unified",
            font=dict(family="Arial, sans-serif", size=13),
            xaxis_title="Ordem de entrada do usuário (idx)",
            yaxis_title="Probabilidade (classe 1)",
            yaxis=dict(range=[-0.02, 1.02]),
            legend=dict(orientation="v", x=1.02, y=1,
                        bgcolor="rgba(255,255,255,0.95)",
                        bordercolor="rgba(0,0,0,0.1)", borderwidth=1)
        )
        fig.show()


if __name__ == "__main__":
    app = TitanicApp()
    app.mainloop()
